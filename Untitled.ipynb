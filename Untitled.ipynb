{
 "cells": [
  {
   "cell_type": "code",
   "execution_count": 2,
   "id": "8e06f988",
   "metadata": {},
   "outputs": [],
   "source": [
    "chicago_murders = 762\n",
    "chicago_pop = 2_705_000"
   ]
  },
  {
   "cell_type": "code",
   "execution_count": 3,
   "id": "d6ba7528",
   "metadata": {},
   "outputs": [],
   "source": [
    "la_murders = 294\n",
    "la_pop = 3_976_000"
   ]
  },
  {
   "cell_type": "code",
   "execution_count": 4,
   "id": "b0e47452",
   "metadata": {},
   "outputs": [],
   "source": [
    "nyc_murders = 334\n",
    "nyc_pop = 8_538_000"
   ]
  },
  {
   "cell_type": "code",
   "execution_count": 5,
   "id": "212faf82",
   "metadata": {},
   "outputs": [],
   "source": [
    "sj_murders = 47\n",
    "sj_pop = 1_025_000"
   ]
  },
  {
   "cell_type": "code",
   "execution_count": 7,
   "id": "4a4fc70d",
   "metadata": {},
   "outputs": [
    {
     "data": {
      "text/plain": [
       "28.170055452865068"
      ]
     },
     "execution_count": 7,
     "metadata": {},
     "output_type": "execute_result"
    }
   ],
   "source": [
    "#normalize chicago murder rates per 100,000\n",
    "chicago_rate = (chicago_murders/chicago_pop*100_000)\n",
    "chicago_rate"
   ]
  },
  {
   "cell_type": "code",
   "execution_count": 8,
   "id": "c8a6c7ab",
   "metadata": {},
   "outputs": [
    {
     "data": {
      "text/plain": [
       "3.911923167018037"
      ]
     },
     "execution_count": 8,
     "metadata": {},
     "output_type": "execute_result"
    }
   ],
   "source": [
    "#normalize nyc murder rates per 100,000\n",
    "nyc_rate = (nyc_murders/nyc_pop*100_000)\n",
    "nyc_rate"
   ]
  },
  {
   "cell_type": "code",
   "execution_count": 9,
   "id": "b419dcab",
   "metadata": {},
   "outputs": [
    {
     "data": {
      "text/plain": [
       "7.394366197183098"
      ]
     },
     "execution_count": 9,
     "metadata": {},
     "output_type": "execute_result"
    }
   ],
   "source": [
    "#normalize la murder rates per 100,000\n",
    "la_rate = (la_murders/la_pop*100_000)\n",
    "la_rate"
   ]
  },
  {
   "cell_type": "code",
   "execution_count": 10,
   "id": "9cb2efce",
   "metadata": {},
   "outputs": [
    {
     "data": {
      "text/plain": [
       "4.585365853658536"
      ]
     },
     "execution_count": 10,
     "metadata": {},
     "output_type": "execute_result"
    }
   ],
   "source": [
    "#normalize sj murder rates per 100,000\n",
    "sj_rate = (sj_murders/sj_pop*100_000)\n",
    "sj_rate"
   ]
  },
  {
   "cell_type": "code",
   "execution_count": null,
   "id": "530b7bc7",
   "metadata": {},
   "outputs": [],
   "source": [
    "print(f\"The murder rate in Chicago is the highest\\\n",
    ", at {chicago_rate} murders per 100,000 people. Next is Los Angeles\")"
   ]
  }
 ],
 "metadata": {
  "kernelspec": {
   "display_name": "Python 3 (ipykernel)",
   "language": "python",
   "name": "python3"
  },
  "language_info": {
   "codemirror_mode": {
    "name": "ipython",
    "version": 3
   },
   "file_extension": ".py",
   "mimetype": "text/x-python",
   "name": "python",
   "nbconvert_exporter": "python",
   "pygments_lexer": "ipython3",
   "version": "3.11.5"
  }
 },
 "nbformat": 4,
 "nbformat_minor": 5
}
