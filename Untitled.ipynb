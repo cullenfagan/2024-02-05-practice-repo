{
 "cells": [
  {
   "cell_type": "code",
   "execution_count": 2,
   "id": "f933646d",
   "metadata": {},
   "outputs": [],
   "source": [
    "chicago_murders = 762\n",
    "chicago_pop = 2_705_000"
   ]
  },
  {
   "cell_type": "code",
   "execution_count": 3,
   "id": "5b95634b",
   "metadata": {},
   "outputs": [],
   "source": [
    "la_murders = 294\n",
    "la_pop = 3_976_000"
   ]
  },
  {
   "cell_type": "code",
   "execution_count": 4,
   "id": "66911635",
   "metadata": {},
   "outputs": [],
   "source": [
    "nyc_murders = 334\n",
    "nyc_pop = 8_538_000"
   ]
  },
  {
   "cell_type": "code",
   "execution_count": 5,
   "id": "ce91c5ea",
   "metadata": {},
   "outputs": [],
   "source": [
    "sj_murders = 47\n",
    "sj_pop = 1_025_000"
   ]
  },
  {
   "cell_type": "code",
   "execution_count": 7,
   "id": "08a5e91b",
   "metadata": {},
   "outputs": [
    {
     "data": {
      "text/plain": [
       "28.170055452865068"
      ]
     },
     "execution_count": 7,
     "metadata": {},
     "output_type": "execute_result"
    }
   ],
   "source": [
    "#normalize chicago murder rates per 100,000\n",
    "chicago_rate = (chicago_murders/chicago_pop*100_000)\n",
    "chicago_rate"
   ]
  },
  {
   "cell_type": "code",
   "execution_count": 8,
   "id": "4eddcea1",
   "metadata": {},
   "outputs": [
    {
     "data": {
      "text/plain": [
       "3.911923167018037"
      ]
     },
     "execution_count": 8,
     "metadata": {},
     "output_type": "execute_result"
    }
   ],
   "source": [
    "#normalize nyc murder rates per 100,000\n",
    "nyc_rate = (nyc_murders/nyc_pop*100_000)\n",
    "nyc_rate"
   ]
  },
  {
   "cell_type": "code",
   "execution_count": 9,
   "id": "66f7a73e",
   "metadata": {},
   "outputs": [
    {
     "data": {
      "text/plain": [
       "7.394366197183098"
      ]
     },
     "execution_count": 9,
     "metadata": {},
     "output_type": "execute_result"
    }
   ],
   "source": [
    "#normalize la murder rates per 100,000\n",
    "la_rate = (la_murders/la_pop*100_000)\n",
    "la_rate"
   ]
  },
  {
   "cell_type": "code",
   "execution_count": 10,
   "id": "37afd10f",
   "metadata": {},
   "outputs": [
    {
     "data": {
      "text/plain": [
       "4.585365853658536"
      ]
     },
     "execution_count": 10,
     "metadata": {},
     "output_type": "execute_result"
    }
   ],
   "source": [
    "#normalize sj murder rates per 100,000\n",
    "sj_rate = (sj_murders/sj_pop*100_000)\n",
    "sj_rate"
   ]
  },
  {
   "cell_type": "code",
   "execution_count": 11,
   "id": "372fd2b0",
   "metadata": {},
   "outputs": [
    {
     "name": "stdout",
     "output_type": "stream",
     "text": [
      "The murder rate in Chicago is the highest, at 28.170055452865068 murders per 100,000 people. Next is Los Angeles, at 7.394366197183098 murders per 100,000 people, and then San Jose, at 4.585365853658536 murders per 100,000 people. New York City had the lowest murder rate, at 3.911923167018037 per 100,000.\n"
     ]
    }
   ],
   "source": [
    "print(f\"The murder rate in Chicago is the highest\\\n",
    ", at {chicago_rate} murders per 100,000 people. Next is Los Angeles,\\\n",
    " at {la_rate} murders per 100,000 people, and then San Jose, at\\\n",
    " {sj_rate} murders per 100,000 people. New York City had the\\\n",
    " lowest murder rate, at {nyc_rate} per 100,000.\")"
   ]
  },
  {
   "cell_type": "code",
   "execution_count": null,
   "id": "543f28cc",
   "metadata": {},
   "outputs": [],
   "source": []
  }
 ],
 "metadata": {
  "kernelspec": {
   "display_name": "Python 3 (ipykernel)",
   "language": "python",
   "name": "python3"
  },
  "language_info": {
   "codemirror_mode": {
    "name": "ipython",
    "version": 3
   },
   "file_extension": ".py",
   "mimetype": "text/x-python",
   "name": "python",
   "nbconvert_exporter": "python",
   "pygments_lexer": "ipython3",
   "version": "3.11.5"
  }
 },
 "nbformat": 4,
 "nbformat_minor": 5
}
